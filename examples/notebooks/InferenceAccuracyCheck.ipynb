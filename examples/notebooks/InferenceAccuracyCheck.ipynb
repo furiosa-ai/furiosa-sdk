{
 "cells": [
  {
   "cell_type": "markdown",
   "metadata": {},
   "source": [
    "# An Example of Inference Accuracy Check\n",
    "\n",
    "This tutorial will explain how to compare the inference accuracies between furiosa-sdk using NPU and other runtimes using CPU or GPU. In this example, we are going to use Onnx runtime as a counterpart runtime.\n",
    "\n",
    "## Prerequisites\n",
    "To follow this tutorial, please install the followings first.\n",
    "\n",
    "To run this examples, you must install the required packages and setup Python environment by following the guides:\n",
    "* [FuriosaAI Driver, Firmware, Runtime Installation Guide](https://furiosa-ai.github.io/docs/latest/ko/software/installation.html)\n",
    "* [Setting up a Python Environment](https://furiosa-ai.github.io/docs/latest/ko/software/python-sdk.html#python)\n",
    "\n",
    "Then, please install the following python packages:\n",
    "```sh\n",
    "pip install furiosa-sdk matplotlib mnist onnxruntime\n",
    "```\n",
    "\n",
    "Or, you can run the following command to install all dependent packages for all notebook examples at once:\n",
    "```sh\n",
    "pip install -r examples/notebooks/requirements.txt\n",
    "```\n",
    "\n",
    "And then, let's check if your NPU device is ready as following:"
   ]
  },
  {
   "cell_type": "code",
   "execution_count": 1,
   "metadata": {
    "tags": []
   },
   "outputs": [
    {
     "name": "stdout",
     "output_type": "stream",
     "text": [
      "\u001b[0m+\u001b[0m\u001b[0m------\u001b[0m\u001b[0m+\u001b[0m\u001b[0m--------\u001b[0m\u001b[0m+\u001b[0m\u001b[0m----------------\u001b[0m\u001b[0m+\u001b[0m\u001b[0m-------\u001b[0m\u001b[0m+\u001b[0m\u001b[0m--------\u001b[0m\u001b[0m+\u001b[0m\u001b[0m--------------\u001b[0m\u001b[0m+\n",
      "\u001b[0m\u001b[0m\u001b[0m|\u001b[0m\u001b[0m \u001b[0m\u001b[0m\u001b[0m\u001b[1mNPU \u001b[0m \u001b[0m\u001b[0m|\u001b[0m\u001b[0m \u001b[0m\u001b[0m\u001b[0m\u001b[1mName  \u001b[0m \u001b[0m\u001b[0m|\u001b[0m\u001b[0m \u001b[0m\u001b[0m\u001b[0m\u001b[1mFirmware      \u001b[0m \u001b[0m\u001b[0m|\u001b[0m\u001b[0m \u001b[0m\u001b[0m\u001b[0m\u001b[1mTemp.\u001b[0m \u001b[0m\u001b[0m|\u001b[0m\u001b[0m \u001b[0m\u001b[0m\u001b[0m\u001b[1mPower \u001b[0m \u001b[0m\u001b[0m|\u001b[0m\u001b[0m \u001b[0m\u001b[0m\u001b[0m\u001b[1mPCI-BDF     \u001b[0m \u001b[0m\u001b[0m|\u001b[0m\u001b[0m\n",
      "\u001b[0m\u001b[0m\u001b[0m+\u001b[0m\u001b[0m------\u001b[0m\u001b[0m+\u001b[0m\u001b[0m--------\u001b[0m\u001b[0m+\u001b[0m\u001b[0m----------------\u001b[0m\u001b[0m+\u001b[0m\u001b[0m-------\u001b[0m\u001b[0m+\u001b[0m\u001b[0m--------\u001b[0m\u001b[0m+\u001b[0m\u001b[0m--------------\u001b[0m\u001b[0m+\n",
      "\u001b[0m\u001b[0m\u001b[0m|\u001b[0m\u001b[0m \u001b[0m\u001b[0m\u001b[0mnpu0\u001b[0m \u001b[0m\u001b[0m|\u001b[0m\u001b[0m \u001b[0m\u001b[0m\u001b[0mwarboy\u001b[0m \u001b[0m\u001b[0m|\u001b[0m\u001b[0m \u001b[0m\u001b[0m\u001b[0m1.7.0, 0a4411e\u001b[0m \u001b[0m\u001b[0m|\u001b[0m\u001b[0m \u001b[0m\u001b[0m\u001b[0m 39°C\u001b[0m \u001b[0m\u001b[0m|\u001b[0m\u001b[0m \u001b[0m\u001b[0m\u001b[0m2.29 W\u001b[0m \u001b[0m\u001b[0m|\u001b[0m\u001b[0m \u001b[0m\u001b[0m\u001b[0m0000:49:00.0\u001b[0m \u001b[0m\u001b[0m|\u001b[0m\u001b[0m\n",
      "\u001b[0m\u001b[0m\u001b[0m+\u001b[0m\u001b[0m------\u001b[0m\u001b[0m+\u001b[0m\u001b[0m--------\u001b[0m\u001b[0m+\u001b[0m\u001b[0m----------------\u001b[0m\u001b[0m+\u001b[0m\u001b[0m-------\u001b[0m\u001b[0m+\u001b[0m\u001b[0m--------\u001b[0m\u001b[0m+\u001b[0m\u001b[0m--------------\u001b[0m\u001b[0m+\n",
      "\u001b[0m\u001b[0m"
     ]
    }
   ],
   "source": [
    "!furiosactl info"
   ]
  },
  {
   "cell_type": "markdown",
   "metadata": {},
   "source": [
    "Then, let's make sure that your SDK is ready to run."
   ]
  },
  {
   "cell_type": "code",
   "execution_count": 2,
   "metadata": {},
   "outputs": [
    {
     "name": "stdout",
     "output_type": "stream",
     "text": [
      "libfuriosa_hal.so --- v0.11.0, built @ 43c901f\n",
      "Furiosa SDK Runtime 0.10.0-dev (rev: e80482f4) (libnux 0.9.0 062c7dd1f 2023-04-12T20:55:14Z)\n"
     ]
    }
   ],
   "source": [
    "!python -c \"from furiosa import runtime;print(runtime.__full_version__)\""
   ]
  },
  {
   "cell_type": "markdown",
   "metadata": {},
   "source": [
    "## Preparing the dataset and model"
   ]
  },
  {
   "cell_type": "code",
   "execution_count": 3,
   "metadata": {},
   "outputs": [
    {
     "data": {
      "text/plain": [
       "(60000, 1, 28, 28)"
      ]
     },
     "execution_count": 3,
     "metadata": {},
     "output_type": "execute_result"
    }
   ],
   "source": [
    "# Import MNIST dataset package\n",
    "import numpy as np\n",
    "import mnist\n",
    "\n",
    "# The following line will download the MNIST dataset through the network.\n",
    "mnist_images = mnist.train_images().reshape((60000, 1, 28, 28)).astype(np.float32)\n",
    "mnist_images.shape"
   ]
  },
  {
   "cell_type": "code",
   "execution_count": 4,
   "metadata": {},
   "outputs": [],
   "source": [
    "from pathlib import Path\n",
    "\n",
    "model_path = 'models/mnist-8.onnx'"
   ]
  },
  {
   "cell_type": "code",
   "execution_count": 5,
   "metadata": {},
   "outputs": [],
   "source": [
    "import onnxruntime\n",
    "\n",
    "onnxrt = onnxruntime.InferenceSession(model_path)"
   ]
  },
  {
   "cell_type": "code",
   "execution_count": 6,
   "metadata": {},
   "outputs": [
    {
     "name": "stderr",
     "output_type": "stream",
     "text": [
      "libfuriosa_hal.so --- v0.11.0, built @ 43c901f\n",
      "Saving the compilation log into /home/hyunsik/.local/state/furiosa/logs/compile-20230413184426-9yr3jx.log\n",
      "Using furiosa-compiler 0.9.0 (rev: 062c7dd1f built at 2023-04-12T20:55:14Z)\n"
     ]
    },
    {
     "name": "stdout",
     "output_type": "stream",
     "text": [
      "\u001b[2m2023-04-13T23:44:27.028635Z\u001b[0m \u001b[32m INFO\u001b[0m \u001b[2mnux::npu\u001b[0m\u001b[2m:\u001b[0m Npu (npu0pe0-1) is being initialized\n",
      "\u001b[2m2023-04-13T23:44:27.031933Z\u001b[0m \u001b[32m INFO\u001b[0m \u001b[2mnux\u001b[0m\u001b[2m:\u001b[0m NuxInner create with pes: [PeId(0)]\n"
     ]
    },
    {
     "name": "stderr",
     "output_type": "stream",
     "text": [
      "\u001b[1m\u001b[2m[1/6]\u001b[0m 🔍   Compiling from onnx to dfg\n",
      "Done in 0.001068244s\n",
      "\u001b[1m\u001b[2m[2/6]\u001b[0m 🔍   Compiling from dfg to ldfg\n",
      "Done in 0.000709566s\n",
      "\u001b[1m\u001b[2m[3/6]\u001b[0m 🔍   Compiling from ldfg to cdfg\n",
      "Done in 0.000116216s\n",
      "\u001b[1m\u001b[2m[4/6]\u001b[0m 🔍   Compiling from cdfg to gir\n",
      "Done in 0.000048078s\n",
      "\u001b[1m\u001b[2m[5/6]\u001b[0m 🔍   Compiling from gir to lir\n",
      "Done in 0.000107976s\n",
      "\u001b[1m\u001b[2m[6/6]\u001b[0m 🔍   Compiling from lir to enf\n",
      "Done in 0.000096677s\n",
      "✨  Finished in 0.002333382s\n",
      "Inputs:\n",
      "{0: TensorDesc(name=\"Input3\", shape=(1, 1, 28, 28), dtype=FLOAT32, format=NCHW, size=3136, len=784)}\n",
      "Outputs:\n",
      "{0: TensorDesc(name=\"Plus214_Output_0\", shape=(1, 10), dtype=FLOAT32, format=??, size=40, len=10)}\n"
     ]
    }
   ],
   "source": [
    "from furiosa.runtime import session\n",
    "\n",
    "sess = session.create(model_path)\n",
    "sess.print_summary()"
   ]
  },
  {
   "cell_type": "code",
   "execution_count": 7,
   "metadata": {},
   "outputs": [],
   "source": [
    "# to compare floating point numbers with tolerance\n",
    "def numpy_equals(expected, result, atol=0.1):\n",
    "    return np.allclose(expected, result, atol=atol), \"{} was expected, but the result was {}\".format(\n",
    "        expected, result\n",
    "    )"
   ]
  },
  {
   "cell_type": "markdown",
   "metadata": {},
   "source": [
    "The following function runs inferences on both CPU and NPU and compree the results. It will take some time depending on `total_run`."
   ]
  },
  {
   "cell_type": "code",
   "execution_count": 8,
   "metadata": {},
   "outputs": [
    {
     "name": "stdout",
     "output_type": "stream",
     "text": [
      "Accuracy: 100.0%\n",
      "CPU times: user 9.99 s, sys: 15.1 ms, total: 10 s\n",
      "Wall time: 474 ms\n"
     ]
    }
   ],
   "source": [
    "%%time\n",
    "\n",
    "import random\n",
    "total_run = 20 # How many inferences are compared\n",
    "matched = 0\n",
    "\n",
    "for _ in range(0, total_run):\n",
    "    # randomly picks the item\n",
    "    idx = random.randrange(0, 60000, 1)\n",
    "    ndarray_value = mnist_images[idx : idx + 1]\n",
    "    \n",
    "    result1 = sess.run_with([\"Plus214_Output_0\"], {\"Input3\": ndarray_value})\n",
    "    result2 = onnxrt.run([\"Plus214_Output_0\"], {\"Input3\": ndarray_value})    \n",
    "    \n",
    "    if numpy_equals(result1[0].numpy(), result2, 0.04):\n",
    "        matched += 1\n",
    "        \n",
    "print(f\"Accuracy: {matched / total_run * 100}%\")"
   ]
  },
  {
   "cell_type": "code",
   "execution_count": 9,
   "metadata": {
    "tags": []
   },
   "outputs": [
    {
     "name": "stdout",
     "output_type": "stream",
     "text": [
      "\u001b[2m2023-04-13T23:44:27.557345Z\u001b[0m \u001b[32m INFO\u001b[0m \u001b[2mnux::npu\u001b[0m\u001b[2m:\u001b[0m NPU (npu0pe0-1) has been destroyed\n",
      "\u001b[2m2023-04-13T23:44:27.557523Z\u001b[0m \u001b[32m INFO\u001b[0m \u001b[2mnux::capi\u001b[0m\u001b[2m:\u001b[0m session has been destroyed\n"
     ]
    }
   ],
   "source": [
    "# Close the session after you use.\n",
    "sess.close()"
   ]
  }
 ],
 "metadata": {
  "kernelspec": {
   "display_name": "Python 3 (ipykernel)",
   "language": "python",
   "name": "python3"
  },
  "language_info": {
   "codemirror_mode": {
    "name": "ipython",
    "version": 3
   },
   "file_extension": ".py",
   "mimetype": "text/x-python",
   "name": "python",
   "nbconvert_exporter": "python",
   "pygments_lexer": "ipython3",
   "version": "3.10.9"
  }
 },
 "nbformat": 4,
 "nbformat_minor": 4
}
