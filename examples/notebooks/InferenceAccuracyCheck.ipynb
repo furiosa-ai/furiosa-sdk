{
 "cells": [
  {
   "cell_type": "markdown",
   "metadata": {},
   "source": [
    "# An Example of Inference Accuracy Check\n",
    "\n",
    "This tutorial will explain how to compare the inference accuracies between furiosa-sdk using NPU and other runtimes using CPU or GPU. In this example, we are going to use Onnx runtime as a counterpart runtime.\n",
    "\n",
    "## Prerequisites\n",
    "To follow this tutorial, please install the followings first.\n",
    "\n",
    "To run this examples, you must install the required packages and setup Python environment by following the guides:\n",
    "* [FuriosaAI Driver, Firmware, Runtime Installation Guide](https://furiosa-ai.github.io/docs/latest/ko/software/installation.html)\n",
    "* [Setting up a Python Environment](https://furiosa-ai.github.io/docs/latest/ko/software/python-sdk.html#python)\n",
    "\n",
    "Then, please install the following python packages:\n",
    "```sh\n",
    "pip install furiosa-sdk matplotlib mnist onnxruntime\n",
    "```\n",
    "\n",
    "Or, you can run the following command to install all dependent packages for all notebook examples at once:\n",
    "```sh\n",
    "pip install -r examples/notebooks/requirements.txt\n",
    "```\n",
    "\n",
    "And then, let's check if your NPU device is ready as following:"
   ]
  },
  {
   "cell_type": "code",
   "execution_count": 1,
   "metadata": {
    "tags": []
   },
   "outputs": [
    {
     "name": "stdout",
     "output_type": "stream",
     "text": [
      "\u001b[0m\u001b[0m+\u001b[0m\u001b[0m------\u001b[0m\u001b[0m+\u001b[0m\u001b[0m------------------\u001b[0m\u001b[0m+\u001b[0m\u001b[0m-------\u001b[0m\u001b[0m+\u001b[0m\u001b[0m--------\u001b[0m\u001b[0m+\u001b[0m\u001b[0m--------------\u001b[0m\u001b[0m+\u001b[0m\u001b[0m---------\u001b[0m\u001b[0m+\n",
      "\u001b[0m\u001b[0m|\u001b[0m\u001b[0m \u001b[0m\u001b[1mNPU \u001b[0m\u001b[0m \u001b[0m\u001b[0m|\u001b[0m\u001b[0m \u001b[0m\u001b[1mName            \u001b[0m\u001b[0m \u001b[0m\u001b[0m|\u001b[0m\u001b[0m \u001b[0m\u001b[1mTemp.\u001b[0m\u001b[0m \u001b[0m\u001b[0m|\u001b[0m\u001b[0m \u001b[0m\u001b[1mPower \u001b[0m\u001b[0m \u001b[0m\u001b[0m|\u001b[0m\u001b[0m \u001b[0m\u001b[1mPCI-BDF     \u001b[0m\u001b[0m \u001b[0m\u001b[0m|\u001b[0m\u001b[0m \u001b[0m\u001b[1mPCI-DEV\u001b[0m\u001b[0m \u001b[0m\u001b[0m|\u001b[0m\u001b[0m\n",
      "\u001b[0m\u001b[0m+\u001b[0m\u001b[0m------\u001b[0m\u001b[0m+\u001b[0m\u001b[0m------------------\u001b[0m\u001b[0m+\u001b[0m\u001b[0m-------\u001b[0m\u001b[0m+\u001b[0m\u001b[0m--------\u001b[0m\u001b[0m+\u001b[0m\u001b[0m--------------\u001b[0m\u001b[0m+\u001b[0m\u001b[0m---------\u001b[0m\u001b[0m+\n",
      "\u001b[0m\u001b[0m|\u001b[0m\u001b[0m \u001b[0mnpu4\u001b[0m\u001b[0m \u001b[0m\u001b[0m|\u001b[0m\u001b[0m \u001b[0mFuriosaAI Warboy\u001b[0m\u001b[0m \u001b[0m\u001b[0m|\u001b[0m\u001b[0m \u001b[0m 49°C\u001b[0m\u001b[0m \u001b[0m\u001b[0m|\u001b[0m\u001b[0m \u001b[0m0.00 W\u001b[0m\u001b[0m \u001b[0m\u001b[0m|\u001b[0m\u001b[0m \u001b[0m0000:a1:00.0\u001b[0m\u001b[0m \u001b[0m\u001b[0m|\u001b[0m\u001b[0m \u001b[0m503:0  \u001b[0m\u001b[0m \u001b[0m\u001b[0m|\u001b[0m\u001b[0m\n",
      "\u001b[0m\u001b[0m+\u001b[0m\u001b[0m------\u001b[0m\u001b[0m+\u001b[0m\u001b[0m------------------\u001b[0m\u001b[0m+\u001b[0m\u001b[0m-------\u001b[0m\u001b[0m+\u001b[0m\u001b[0m--------\u001b[0m\u001b[0m+\u001b[0m\u001b[0m--------------\u001b[0m\u001b[0m+\u001b[0m\u001b[0m---------\u001b[0m\u001b[0m+\n",
      "\u001b[0m"
     ]
    }
   ],
   "source": [
    "!furiosactl info"
   ]
  },
  {
   "cell_type": "markdown",
   "metadata": {},
   "source": [
    "Then, let's make sure that your SDK is ready to run."
   ]
  },
  {
   "cell_type": "code",
   "execution_count": 2,
   "metadata": {},
   "outputs": [
    {
     "name": "stdout",
     "output_type": "stream",
     "text": [
      "libnpu.so --- v2.0, built @ fe1fca3\n",
      "Furiosa SDK Runtime  (libnux 0.5.0 407c0c51f-modified 2021-11-22 20:18:37)\n"
     ]
    }
   ],
   "source": [
    "!python -c \"from furiosa import runtime;print(runtime.__full_version__)\""
   ]
  },
  {
   "cell_type": "markdown",
   "metadata": {},
   "source": [
    "## Preparing the dataset and model"
   ]
  },
  {
   "cell_type": "code",
   "execution_count": 3,
   "metadata": {},
   "outputs": [
    {
     "data": {
      "text/plain": [
       "(60000, 1, 28, 28)"
      ]
     },
     "execution_count": 3,
     "metadata": {},
     "output_type": "execute_result"
    }
   ],
   "source": [
    "# Import MNIST dataset package\n",
    "import numpy as np\n",
    "import mnist\n",
    "\n",
    "# The following line will download the MNIST dataset through the network.\n",
    "mnist_images = mnist.train_images().reshape((60000, 1, 28, 28)).astype(np.float32)\n",
    "mnist_images.shape"
   ]
  },
  {
   "cell_type": "code",
   "execution_count": 4,
   "metadata": {},
   "outputs": [],
   "source": [
    "from pathlib import Path\n",
    "\n",
    "model_path = 'models/mnist-8.onnx'"
   ]
  },
  {
   "cell_type": "code",
   "execution_count": 5,
   "metadata": {},
   "outputs": [],
   "source": [
    "import onnxruntime\n",
    "\n",
    "onnxrt = onnxruntime.InferenceSession(model_path)"
   ]
  },
  {
   "cell_type": "code",
   "execution_count": 6,
   "metadata": {},
   "outputs": [
    {
     "name": "stdout",
     "output_type": "stream",
     "text": [
      "Saving the compilation log into /home/jovyan/.local/state/furiosa/logs/compile-20211214003445-mn7r2w.log\n",
      "Using furiosa-compiler 0.5.0 (rev: 407c0c51f-modified built at 2021-11-22 20:18:37)\n",
      "\u001b[2m2021-12-14T00:34:45.530199Z\u001b[0m \u001b[32m INFO\u001b[0m Npu (npu4pe0-1) is being initialized\n",
      "\u001b[2m2021-12-14T00:34:45.531441Z\u001b[0m \u001b[32m INFO\u001b[0m NuxInner create with pes: [PeId(0)]\n",
      "\u001b[2m2021-12-14T00:34:45.539545Z\u001b[0m \u001b[32m INFO\u001b[0m [Profiler] Program binary notification has been arrived. Cleanup current profile queue data\n",
      "Inputs:\n",
      "{0: TensorDesc(name=\"Input3\", shape=(1, 1, 28, 28), dtype=FLOAT32, format=NCHW, size=3136, len=784)}\n",
      "Outputs:\n",
      "{0: TensorDesc(name=\"Plus214_Output_0\", shape=(1, 10), dtype=FLOAT32, format=??, size=40, len=10)}\n"
     ]
    },
    {
     "name": "stderr",
     "output_type": "stream",
     "text": [
      "libnpu.so --- v2.0, built @ fe1fca3\n",
      "[1/6] 🔍   Compiling from onnx to dfg\n",
      "Done in 0.000943567s\n",
      "[2/6] 🔍   Compiling from dfg to ldfg\n",
      "Done in 0.001744975s\n",
      "[3/6] 🔍   Compiling from ldfg to cdfg\n",
      "Done in 0.000194827s\n",
      "[4/6] 🔍   Compiling from cdfg to gir\n",
      "Done in 0.000117248s\n",
      "[5/6] 🔍   Compiling from gir to lir\n",
      "Done in 0.000234277s\n",
      "[6/6] 🔍   Compiling from lir to enf\n",
      "Done in 0.000587912s\n",
      "✨  Finished in 0.004302328s\n"
     ]
    }
   ],
   "source": [
    "from furiosa.runtime import session\n",
    "\n",
    "sess = session.create(model_path)\n",
    "sess.print_summary()"
   ]
  },
  {
   "cell_type": "code",
   "execution_count": 10,
   "metadata": {},
   "outputs": [],
   "source": [
    "# to compare floating point numbers with tolerance\n",
    "def numpy_equals(expected, result, atol=0.1):\n",
    "    return np.allclose(expected, result, atol=atol), \"{} was expected, but the result was {}\".format(\n",
    "        expected, result\n",
    "    )"
   ]
  },
  {
   "cell_type": "markdown",
   "metadata": {},
   "source": [
    "The following function runs inferences on both CPU and NPU and compree the results. It will take some time depending on `total_run`."
   ]
  },
  {
   "cell_type": "code",
   "execution_count": 12,
   "metadata": {},
   "outputs": [
    {
     "name": "stdout",
     "output_type": "stream",
     "text": [
      "Accuracy: 100.0%\n",
      "CPU times: user 49.5 s, sys: 1.15 s, total: 50.7 s\n",
      "Wall time: 12.6 s\n"
     ]
    }
   ],
   "source": [
    "%%time\n",
    "\n",
    "import random\n",
    "total_run = 20 # How many inferences are compared\n",
    "matched = 0\n",
    "\n",
    "for _ in range(0, total_run):\n",
    "    # randomly picks the item\n",
    "    idx = random.randrange(0, 60000, 1)\n",
    "    ndarray_value = mnist_images[idx : idx + 1]\n",
    "    \n",
    "    result1 = sess.run_with([\"Plus214_Output_0\"], {\"Input3\": ndarray_value})\n",
    "    result2 = onnxrt.run([\"Plus214_Output_0\"], {\"Input3\": ndarray_value})    \n",
    "    \n",
    "    if numpy_equals(result1[0].numpy(), result2, 0.04):\n",
    "        matched += 1\n",
    "        \n",
    "print(f\"Accuracy: {matched / total_run * 100}%\")"
   ]
  },
  {
   "cell_type": "code",
   "execution_count": 14,
   "metadata": {},
   "outputs": [
    {
     "name": "stdout",
     "output_type": "stream",
     "text": [
      "\u001b[2m2021-12-14T00:38:46.750034Z\u001b[0m \u001b[32m INFO\u001b[0m [Profiler] Received a termination signal.\n",
      "\u001b[2m2021-12-14T00:38:46.751019Z\u001b[0m \u001b[32m INFO\u001b[0m session has been destroyed\n"
     ]
    }
   ],
   "source": [
    "# Close the session after you use.\n",
    "sess.close()"
   ]
  }
 ],
 "metadata": {
  "kernelspec": {
   "display_name": "Python 3 (ipykernel)",
   "language": "python",
   "name": "python3"
  },
  "language_info": {
   "codemirror_mode": {
    "name": "ipython",
    "version": 3
   },
   "file_extension": ".py",
   "mimetype": "text/x-python",
   "name": "python",
   "nbconvert_exporter": "python",
   "pygments_lexer": "ipython3",
   "version": "3.9.7"
  }
 },
 "nbformat": 4,
 "nbformat_minor": 4
}
