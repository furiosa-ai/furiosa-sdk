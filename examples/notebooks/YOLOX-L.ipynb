{
 "cells": [
  {
   "cell_type": "markdown",
   "id": "c3de48b7",
   "metadata": {},
   "source": [
    "# YOLOX-L 모델을 최적화 옵션을 적용해 컴파일하고 실행하기"
   ]
  },
  {
   "cell_type": "markdown",
   "id": "0bf4842b",
   "metadata": {},
   "source": [
    "퓨리오사 SDK는 모델을 최적으로 컴파일하고 실행하기 위한 여러 옵션을 제공합니다. 이 문서는 퓨리오사 SDK가 제공하는 옵션을 사용해서 YOLOX-L 모델을 보다 최적으로 컴파일하고 실행하는 예를 보입니다."
   ]
  },
  {
   "cell_type": "markdown",
   "id": "12bbb4fc",
   "metadata": {},
   "source": [
    "## 1. 준비"
   ]
  },
  {
   "cell_type": "markdown",
   "id": "ee61ecda",
   "metadata": {},
   "source": [
    "이 문서에 포함된 예제를 실행하려면, 퓨리오사 SDK 필수 리눅스 패키지 최신 버전을 설치하고 파이썬 실행 환경을 구축해야 합니다. 리눅스 패키지를 아직 설치하지 않았거나 파이썬 실행 환경을 구성하지 않았다면, 아래 두 문서를 참고해 준비할 수 있습니다:\n",
    "\n",
    "* [드라이버, 펌웨어, 런타임 설치 가이드](https://furiosa-ai.github.io/docs/latest/ko/software/installation.html)\n",
    "* [Python 실행 환경 구성](https://furiosa-ai.github.io/docs/latest/ko/software/python-sdk.html#python)"
   ]
  },
  {
   "cell_type": "markdown",
   "id": "ddfbafa3",
   "metadata": {},
   "source": [
    "필수 리눅스 패키지와 파이썬 실행 환경을 준비하고 나면, 다음 단계로 퓨리오사 SDK 파이썬 패키지와 양자화 도구 추가 패키지 최신 버전을 설치합니다.\n",
    "\n",
    "```console\n",
    "$ pip3 install --upgrade 'furiosa-sdk[quantizer]'\n",
    "```"
   ]
  },
  {
   "cell_type": "markdown",
   "id": "a118baf8",
   "metadata": {},
   "source": [
    "마지막으로, OpenCV에 대한 파이썬 바인딩인 `opencv-python-headless` 패키지가 필요합니다. 아래에서 이미지 파일을 읽어 들이고 전처리를 하기 위해 사용합니다.\n",
    "\n",
    "```console\n",
    "$ pip3 install opencv-python-headless\n",
    "```"
   ]
  },
  {
   "cell_type": "markdown",
   "id": "75c65682",
   "metadata": {},
   "source": [
    "### 1.1 YOLOX-L 모델"
   ]
  },
  {
   "cell_type": "markdown",
   "id": "951ad471",
   "metadata": {},
   "source": [
    "YOLOX-L 모델 구현으로는 Megvii 사가 [공개](https://yolox.readthedocs.io/en/latest/demo/onnx_readme.html)한 ONNX 모델 [yolox_l.onnx](https://github.com/Megvii-BaseDetection/YOLOX/releases/download/0.1.1rc0/yolox_l.onnx)을 사용합니다. 해당 모델을 다운로드해서 현재 디렉토리에 저장합니다.\n",
    "\n",
    "```console\n",
    "$ wget https://github.com/Megvii-BaseDetection/YOLOX/releases/download/0.1.1rc0/yolox_l.onnx\n",
    "```"
   ]
  },
  {
   "cell_type": "markdown",
   "id": "1020d011",
   "metadata": {},
   "source": [
    "### 1.2 데이터 집합"
   ]
  },
  {
   "cell_type": "markdown",
   "id": "addd508a",
   "metadata": {},
   "source": [
    "양자화 패라미터를 결정하기 위한 캘리브레이션 데이터 집합과 성능을 측정하기 위한 테스트 데이터 집합으로 [COCO 데이터 집합](https://cocodataset.org)을 사용합니다. 2017년도 [검증 데이터 집합](http://images.cocodataset.org/zips/val2017.zip) (1 GB)과 [테스트 데이터 집합](http://images.cocodataset.org/zips/test2017.zip) (6 GB)을 내려 받습니다. 아래 `tree` 명령 출력과 같은 디렉토리 구조를 가지도록, 현재 디렉토리 아래에 `coco` 디렉토리를 만들고 다시 그 `coco` 디렉토리 속으로 내려 받은 데이터 집합 압축 파일들을 풀어 줍니다.\n",
    "\n",
    "```console\n",
    "$ mkdir coco\n",
    "\n",
    "$ wget http://images.cocodataset.org/zips/val2017.zip\n",
    "$ unzip -d coco val2017.zip\n",
    "\n",
    "$ wget http://images.cocodataset.org/zips/test2017.zip\n",
    "$ unzip -d coco test2017.zip\n",
    "\n",
    "$ tree coco\n",
    "coco\n",
    "├── test2017\n",
    "│   ├── 000000000001.jpg\n",
    "│   ├── 000000000016.jpg\n",
    "│   ├── 000000000019.jpg\n",
    "│   ...\n",
    "│   ├── 000000581911.jpg\n",
    "│   └── 000000581918.jpg\n",
    "└── val2017\n",
    "    ├── 000000000139.jpg\n",
    "    ├── 000000000285.jpg\n",
    "    ├── 000000000632.jpg\n",
    "    ...\n",
    "    ├── 000000581615.jpg\n",
    "    └── 000000581781.jpg\n",
    "\n",
    "```"
   ]
  },
  {
   "cell_type": "markdown",
   "id": "62e8417b",
   "metadata": {},
   "source": [
    "그리고 각 클래스 id에 해당하는 라벨 정보도 필요합니다.\n",
    "```\n",
    "$ wget https://github.com/amikelive/coco-labels/blob/master/coco-labels-2014_2017.txt\n",
    "$ ls \n",
    "coco-labels-2014_2017.txt\n",
    "```"
   ]
  },
  {
   "cell_type": "markdown",
   "id": "1d4e27fd",
   "metadata": {},
   "source": [
    "### 1.3 임포트"
   ]
  },
  {
   "cell_type": "code",
   "execution_count": 1,
   "id": "3c40a9c0",
   "metadata": {},
   "outputs": [
    {
     "name": "stderr",
     "output_type": "stream",
     "text": [
      "libfuriosa_hal.so --- v0.11.0, built @ 43c901f\n",
      "libfuriosa_hal.so --- v0.11.0, built @ 43c901f\n"
     ]
    }
   ],
   "source": [
    "import glob\n",
    "from itertools import islice\n",
    "import time\n",
    "\n",
    "import cv2\n",
    "import numpy as np\n",
    "import onnx\n",
    "import torch\n",
    "import torchvision\n",
    "import tqdm\n",
    "\n",
    "import furiosa.runtime.sync\n",
    "from furiosa.optimizer import optimize_model\n",
    "from furiosa.quantizer import quantize, Calibrator, CalibrationMethod, ModelEditor, TensorType"
   ]
  },
  {
   "cell_type": "markdown",
   "id": "87d84e50",
   "metadata": {},
   "source": [
    "## 2. YOLOX-L 모델"
   ]
  },
  {
   "cell_type": "markdown",
   "id": "36725719",
   "metadata": {},
   "source": [
    "YOLOX-L 모델을 메모리로 읽어 들입니다."
   ]
  },
  {
   "cell_type": "code",
   "execution_count": 2,
   "id": "670e87fa",
   "metadata": {},
   "outputs": [],
   "source": [
    "model = onnx.load_model(\"yolox_l.onnx\")"
   ]
  },
  {
   "cell_type": "markdown",
   "id": "f4523cc2",
   "metadata": {},
   "source": [
    "해당 모델은 아래 `calibrate_preproc` 함수를 사용해 전처리한 이미지 데이터 집합을 사용해 훈련되어 있습니다. `calibrate_preproc` 전처리 함수가 하는 일을 구체적으로 기술하면, 2번째 줄부터 13번째 줄까지는 이미지 데이터 크기를 모델 입력 크기로 변환합니다. 원본 이미지 가로세로비를 그대로 유지한 채 확대 혹은 축소하고, 여백을 값 114을 가진 픽셀들로 채웁니다. 그 다음, 15번째 줄에서 채널(C) 축을 맨 앞으로 옮깁니다. 즉, HxWxC 형태의 데이터를 CxHxW 형태의 데이터로 변환합니다. 마지막으로 16번째 줄에서 uint8 값을 float32 값으로 변환합니다. 전체적으로, 이미지를 다루는 모델 입력에 대해 자주 사용하는 전처리 유형입니다."
   ]
  },
  {
   "cell_type": "markdown",
   "id": "4aee6de5",
   "metadata": {},
   "source": [
    "https://github.com/Megvii-BaseDetection/YOLOX/blob/68408b4083f818f50aacc29881e6f97cd19fcef2/yolox/data/data_augment.py#L142-L158"
   ]
  },
  {
   "cell_type": "code",
   "execution_count": 3,
   "id": "18886593",
   "metadata": {},
   "outputs": [],
   "source": [
    "def calibrate_preproc(img, input_size, swap=(2, 0, 1)):\n",
    "    if len(img.shape) == 3:  # line 2\n",
    "        padded_img = np.ones((input_size[0], input_size[1], 3), dtype=np.uint8) * 114\n",
    "    else:\n",
    "        padded_img = np.ones(input_size, dtype=np.uint8) * 114\n",
    "\n",
    "    r = min(input_size[0] / img.shape[0], input_size[1] / img.shape[1])\n",
    "    resized_img = cv2.resize(\n",
    "        img,\n",
    "        (int(img.shape[1] * r), int(img.shape[0] * r)),\n",
    "        interpolation=cv2.INTER_LINEAR,\n",
    "    ).astype(np.uint8)\n",
    "    padded_img[\n",
    "        : int(img.shape[0] * r), : int(img.shape[1] * r)\n",
    "    ] = resized_img  # line 13\n",
    "\n",
    "    padded_img = padded_img.transpose(swap)  # line 15\n",
    "    padded_img = np.ascontiguousarray(padded_img, dtype=np.float32)  # line 16\n",
    "    return padded_img, r"
   ]
  },
  {
   "cell_type": "markdown",
   "id": "ead12227",
   "metadata": {},
   "source": [
    "## 3. 캘리브레이션과 양자화"
   ]
  },
  {
   "cell_type": "markdown",
   "id": "2081f744",
   "metadata": {},
   "source": [
    "양자화 패라미터를 결정하기 위해 사용할 캘리브레이션 데이터 집합을 준비합니다. 이 예에서는 빠른 시연을 위해 임의로 COCO 검증 데이터 집합에 속한 100개의 이미지를 사용합니다. 참고로, MLPerf 벤치마크는 500개 이미지를 캘리브레이션 데이터 집합으로 사용합니다. 훈련할 때 사용한 전처리(`calibrate_preproc`)와 동일한 전처리를 사용하는 점에 주목합니다. 2번째 줄에서 `[np.newaxis, ...]` 부분은 CxHxW 모양의 데이터를 모델 입력이 요구하는 1xCxHxW 모양의 값으로 변환합니다."
   ]
  },
  {
   "cell_type": "code",
   "execution_count": 4,
   "id": "390a8129",
   "metadata": {},
   "outputs": [],
   "source": [
    "calibration_dataset = [\n",
    "    calibrate_preproc(cv2.imread(image), (640, 640))[0][np.newaxis, ...]  # line 2\n",
    "    for image in islice(glob.iglob(\"coco/val2017/*.jpg\"), 100)\n",
    "]"
   ]
  },
  {
   "cell_type": "code",
   "execution_count": 5,
   "id": "9164d14b",
   "metadata": {},
   "outputs": [],
   "source": [
    "model = optimize_model(model)"
   ]
  },
  {
   "cell_type": "markdown",
   "id": "21006e47",
   "metadata": {},
   "source": [
    "앞에서 준비한 YOLOX-L 모델과 캘리브레이션 데이터 집합을 이용하여 캘리브레이션과 양자화를 수행합니다. "
   ]
  },
  {
   "cell_type": "code",
   "execution_count": 6,
   "id": "93f0dbe2",
   "metadata": {},
   "outputs": [
    {
     "name": "stderr",
     "output_type": "stream",
     "text": [
      "Calibration: 100%|██████████████████████████████████████████████████████████████████████████████████████████████████████████████████████████████| 100/100 [05:39<00:00,  3.39s/images]\n"
     ]
    }
   ],
   "source": [
    "calibrator = Calibrator(model, CalibrationMethod.MIN_MAX_ASYM)\n",
    "\n",
    "for calibration_data in tqdm.tqdm(\n",
    "    calibration_dataset, desc=\"Calibration\", unit=\"images\", mininterval=0.5\n",
    "):\n",
    "    calibrator.collect_data([[calibration_data]])"
   ]
  },
  {
   "cell_type": "code",
   "execution_count": 7,
   "id": "ca6dd887",
   "metadata": {},
   "outputs": [],
   "source": [
    "ranges = calibrator.compute_range()"
   ]
  },
  {
   "cell_type": "markdown",
   "id": "e43da150",
   "metadata": {},
   "source": [
    "위의 `range`는 각 텐서마다의 calibration range를 가지고 있습니다.\n",
    "\n",
    "그리고 dictionary형태로 값을 저장하기 때문에 필요에 따라 다양한 데이터포멧으로 저장하고 불러올 수 있습니다.\n",
    "\n",
    "밑의 예제는 json으로 저장하고 불러오는 예시입니다."
   ]
  },
  {
   "cell_type": "code",
   "execution_count": 8,
   "id": "a7d5a5de",
   "metadata": {},
   "outputs": [],
   "source": [
    "import json\n",
    "\n",
    "with open(\"yolo_ranges.json\", \"w\") as f:\n",
    "    f.write(json.dumps(ranges, indent=4))\n",
    "with open(\"yolo_ranges.json\", \"r\") as f:\n",
    "    ranges = json.load(f)"
   ]
  },
  {
   "cell_type": "markdown",
   "id": "d81a28f9",
   "metadata": {},
   "source": [
    "## 4. 컴파일 최적화 옵션"
   ]
  },
  {
   "cell_type": "markdown",
   "id": "551630b0",
   "metadata": {},
   "source": [
    "퓨리오사 SDK는 사용자가 컴파일 과정의 다양한 단계를 대상 모델에 맞게 미세 조정할 수 있도록 하는 여러 옵션을 제공합니다. 그러한 옵션 중의 하나로 이미지 관련 모델에서 자주 사용하는 형태의 전처리 코드의 일부를 퓨리오사 NPU 환경 하에서 보다 효율적으로 실행할 수 있는 코드로 변환하는 옵션이 있습니다. \n",
    "\n",
    "이 옵션들을 사용하기 위해서 `ModelEditor`를 제공하고 있습니다."
   ]
  },
  {
   "cell_type": "code",
   "execution_count": 9,
   "id": "dc22af90",
   "metadata": {},
   "outputs": [],
   "source": [
    "furiosa_editor = ModelEditor(model)"
   ]
  },
  {
   "cell_type": "markdown",
   "id": "83f5185d",
   "metadata": {},
   "source": [
    "추가적인 성능을 위해서 모델의 입력/출력의 데이터타입을 바꾸어야 합니다.\n",
    "\n",
    "모델의 입력 타입을 u8타입으로 출력 타입을 i8타입으로 바꾸기 위해 다음과 같이 실행을 합니다."
   ]
  },
  {
   "cell_type": "code",
   "execution_count": 10,
   "id": "793de2b9",
   "metadata": {},
   "outputs": [],
   "source": [
    "# use model input tensor which name is \"images\" as u8 type instead of f32 type\n",
    "furiosa_editor.convert_input_type(\"images\", TensorType.UINT8)\n",
    "# use model output tensor which name is \"output\" as i8 type instead of f32 type\n",
    "furiosa_editor.convert_output_type(\"output\", TensorType.INT8)"
   ]
  },
  {
   "cell_type": "markdown",
   "id": "10a5ed82",
   "metadata": {},
   "source": [
    "그런 다음, 아래 코드처럼 1xHxWxC 입력을 1xCxHxW 입력으로 보다 효율적으로 변환하도록 하는 설정 `\"permute_input\": [[0, 2, 3, 1]]`을  지정합니다. 이렇게 컴파일러에게 전처리에 대한 정보를 제공하면, 컴파일러는 위에서 주석 처리한 코드와 동일한 계산 결과를 가지면서도 전체 실행 시간을 단축시키는 코드를 산출할 수 있습니다."
   ]
  },
  {
   "cell_type": "code",
   "execution_count": 11,
   "id": "f4593209",
   "metadata": {},
   "outputs": [],
   "source": [
    "compiler_config = {\n",
    "    \"permute_input\": [\n",
    "        [0, 2, 3, 1],\n",
    "    ],\n",
    "}"
   ]
  },
  {
   "cell_type": "markdown",
   "id": "d685d9b6",
   "metadata": {},
   "source": [
    "output타입을 f32가 아닌 i8타입으로 사용했습니다. 하지만 이는 정수값이지 저희가 실제로 쓸 실수값이 아닙니다.\n",
    "\n",
    "정수형 데이터를 실수형으로 변환하기 위해서는 scale, zeropoint 두 파라미터가 필요합니다.\n",
    "scale과 zeropoint는 tensor의 원소 최소, 최대값을 통해 구할 수 있습니다.\n",
    "원소 최대 최소값은 `ranges`에 기록되어 있고 tensor 이름으로 해당 tensor의 원소 최소 최대값을 구할 수 있습니다. \n",
    "지금 output tensor의 i8 데이터를 실수형으로 전환하기 위해서 tensor `output` 의 최소 최대값을 얻어냅니다.\n",
    "\n",
    "양자화에 대한 자세한 공식은 [참고](https://gaussian37.github.io/dl-concept-quantization/)에서 확인할 수 있습니다.\n",
    "\n",
    "`dequantize_x` 함수를 통해 i8 데이터를 f32값로 변환합니다."
   ]
  },
  {
   "cell_type": "code",
   "execution_count": 12,
   "id": "8e1b3c25",
   "metadata": {},
   "outputs": [],
   "source": [
    "# get min max range from ranges\n",
    "min_v, max_v = ranges[\"output\"]\n",
    "info = np.iinfo(np.int8)\n",
    "min_q, max_q = info.min, info.max\n",
    "# get scale and zeropoint\n",
    "scale = (max_v - min_v) / (max_q - min_q)\n",
    "zero_point = np.round((max_v * min_q - min_v * max_q) / (max_v - min_v))\n",
    "\n",
    "\n",
    "# convert int8 type to f32\n",
    "def deqauntize_x(x: np.ndarray) -> float:\n",
    "    return (x - zero_point) * scale"
   ]
  },
  {
   "cell_type": "markdown",
   "id": "445b7c8d",
   "metadata": {},
   "source": [
    "전처리 함수를 다음과 같이 정의할 수 있습니다. 위의 `calibrate_preproc`에서 15번줄과 16번줄을 제거해서 정의하면 됩니다. "
   ]
  },
  {
   "cell_type": "code",
   "execution_count": 13,
   "id": "764b151c",
   "metadata": {},
   "outputs": [],
   "source": [
    "def preproc(img, input_size, swap=(2, 0, 1)):\n",
    "    if len(img.shape) == 3:\n",
    "        padded_img = np.ones((input_size[0], input_size[1], 3), dtype=np.uint8) * 114\n",
    "    else:\n",
    "        padded_img = np.ones(input_size, dtype=np.uint8) * 114\n",
    "\n",
    "    r = min(input_size[0] / img.shape[0], input_size[1] / img.shape[1])\n",
    "    resized_img = cv2.resize(\n",
    "        img,\n",
    "        (int(img.shape[1] * r), int(img.shape[0] * r)),\n",
    "        interpolation=cv2.INTER_LINEAR,\n",
    "    ).astype(np.uint8)\n",
    "    padded_img[: int(img.shape[0] * r), : int(img.shape[1] * r)] = resized_img\n",
    "\n",
    "    #    padded_img = padded_img.transpose(swap)  # line 15\n",
    "    #    padded_img = np.ascontiguousarray(padded_img, dtype=np.float32)  # line 16\n",
    "\n",
    "    return padded_img[np.newaxis, ...]"
   ]
  },
  {
   "cell_type": "markdown",
   "id": "e33a1da8",
   "metadata": {},
   "source": [
    "모델의 결과 값을 해석 하기 위해서 `grids`, `strides`를 정의합니다."
   ]
  },
  {
   "cell_type": "code",
   "execution_count": 14,
   "id": "56680c66",
   "metadata": {},
   "outputs": [],
   "source": [
    "grids = []\n",
    "strides = []\n",
    "for (hsize, wsize), stride in zip([(80, 80), (40, 40), (20, 20)], [8, 16, 32]):\n",
    "    yv, xv = np.meshgrid(  # pylint: disable=invalid-name\n",
    "        np.arange(hsize), np.arange(wsize), indexing=\"ij\"\n",
    "    )\n",
    "    grid = np.stack((xv, yv), 2).reshape(-1, 2)\n",
    "    grids.append(grid)\n",
    "    shape = grid.shape\n",
    "    strides.append(np.full(shape, stride))\n",
    "\n",
    "grids = np.concatenate(grids, axis=0, dtype=np.float32)\n",
    "strides = np.concatenate(strides, axis=0, dtype=np.float32)"
   ]
  },
  {
   "cell_type": "markdown",
   "id": "a5590060",
   "metadata": {},
   "source": [
    "모델의 결과값이 i8타입으로 되어 있기 때문에 `dequantize_x`를 통해 실수값으로 반환합니다. 이를 기반해서 후처리 함수는 다음과 같습니다. \n",
    "\n",
    "원본 모델에서의 후처리 방식은 [참고](https://github.com/Megvii-BaseDetection/YOLOX/blob/419778480ab6ec0590e5d3831b3afb3b46ab2aa3/yolox/utils/boxes.py#L32-L76)에서 확인할 수 있습니다."
   ]
  },
  {
   "cell_type": "code",
   "execution_count": 15,
   "id": "365b04a1",
   "metadata": {},
   "outputs": [],
   "source": [
    "def postproc(outputs: np.ndarray, num_classes: int, conf_thre: float, nms_thre: float):\n",
    "    output = [None] * len(outputs)\n",
    "    for i, image_pred in enumerate(outputs):\n",
    "        if image_pred.shape[0] == 0:\n",
    "            continue\n",
    "        class_pred = np.expand_dims(\n",
    "            np.argmax(image_pred[:, 5 : 5 + num_classes], axis=1), axis=1\n",
    "        )\n",
    "        class_conf = deqauntize_x(\n",
    "            np.take_along_axis(image_pred[:, 5 : 5 + num_classes], class_pred, axis=1)\n",
    "        )\n",
    "\n",
    "        conf_mask = (\n",
    "            deqauntize_x(image_pred[:, 4]) * class_conf.squeeze() >= conf_thre\n",
    "        ).squeeze()\n",
    "        detections = image_pred[conf_mask][:, :5]\n",
    "        if detections.shape[0] == 0:\n",
    "            continue\n",
    "\n",
    "        class_conf = class_conf[conf_mask]\n",
    "        class_pred = class_pred[conf_mask]\n",
    "        detection_grids = grids[conf_mask]\n",
    "        detection_strides = strides[conf_mask]\n",
    "\n",
    "        # dequantize detection\n",
    "        detections = deqauntize_x(detections)\n",
    "\n",
    "        detections[:, :2] = (detections[:, :2] + detection_grids) * detection_strides\n",
    "        detections[:, 2:4] = np.exp(detections[:, 2:4]) * detection_strides\n",
    "\n",
    "        # apply box\n",
    "        box_corner = np.empty_like(detections)\n",
    "        box_corner[:, 0] = detections[:, 0] - detections[:, 2] / 2\n",
    "        box_corner[:, 1] = detections[:, 1] - detections[:, 3] / 2\n",
    "        box_corner[:, 2] = detections[:, 0] + detections[:, 2] / 2\n",
    "        box_corner[:, 3] = detections[:, 1] + detections[:, 3] / 2\n",
    "        detections[:, :4] = box_corner[:, :4]\n",
    "        # Detections ordered as (x1, y1, x2, y2, obj_conf, class_conf, class_pred)\n",
    "        detections = np.concatenate(\n",
    "            (detections[:, :5], class_conf, class_pred.astype(np.float32)), axis=1\n",
    "        )\n",
    "        nms_out_index = torchvision.ops.batched_nms(\n",
    "            torch.from_numpy(detections[:, :4]),\n",
    "            torch.from_numpy(detections[:, 4] * detections[:, 5]),\n",
    "            torch.from_numpy(detections[:, 6]),\n",
    "            nms_thre,\n",
    "        )\n",
    "        output[i] = detections[nms_out_index.numpy()]\n",
    "    return output"
   ]
  },
  {
   "cell_type": "markdown",
   "id": "a1b80a86",
   "metadata": {},
   "source": [
    "마지막으로 `ranges`를 이용해 모델 양자화를 시도합니다."
   ]
  },
  {
   "cell_type": "code",
   "execution_count": 16,
   "id": "02dd3600",
   "metadata": {},
   "outputs": [],
   "source": [
    "model_quantized = quantize(model, ranges)"
   ]
  },
  {
   "cell_type": "markdown",
   "id": "d91f47ff",
   "metadata": {},
   "source": [
    "## 5. 추론 및 레이턴시(latency) 측정"
   ]
  },
  {
   "cell_type": "markdown",
   "id": "bfa81ac1",
   "metadata": {},
   "source": [
    "양자화시킨 모델과 위에서 설명한 컴파일 설정을 사용해 세션을 만듭니다. 생성한 세션을 사용해 테스트 데이터 집합에 대해 추론을 합니다. 캘리브레이션할 때와 마찬가지로 빠른 시연을 위해 전체 40,670개 테스트 데이터 이미지 중 임의로 1000개 이미지를 사용합니다. 그리고, 1000개 이미지를 추론하는데 걸린 총 시간을 측정합니다."
   ]
  },
  {
   "cell_type": "code",
   "execution_count": 17,
   "id": "3c03f19d",
   "metadata": {},
   "outputs": [
    {
     "name": "stdout",
     "output_type": "stream",
     "text": [
      "\u001b[2m2023-10-22T11:55:03.704707Z\u001b[0m \u001b[33m WARN\u001b[0m \u001b[2mfuriosa_rt_core::consts::envs\u001b[0m\u001b[2m:\u001b[0m NPU_DEVNAME will be deprecated. Use FURIOSA_DEVICES instead.\n",
      "\u001b[2m2023-10-22T11:55:03.704746Z\u001b[0m \u001b[32m INFO\u001b[0m \u001b[2mfuriosa_device::config::env\u001b[0m\u001b[2m:\u001b[0m Using config \"npu0pe0-1\" from environment variable \"NPU_DEVNAME\"\n",
      "\u001b[2m2023-10-22T11:55:03.715817Z\u001b[0m \u001b[32m INFO\u001b[0m \u001b[2mfuriosa_rt_core::driver::event_driven::coord\u001b[0m\u001b[2m:\u001b[0m FuriosaRT (v0.10.2, rev: a45bb1a0b, built at: 2023-10-12T06:41:21Z) bootstrapping ...\n",
      "\u001b[2m2023-10-22T11:55:03.721032Z\u001b[0m \u001b[32m INFO\u001b[0m \u001b[2mfuriosa_rt_core::driver::event_driven::coord\u001b[0m\u001b[2m:\u001b[0m Found furiosa-compiler (v0.10.1, rev: 8b00177, built at: 2023-10-12T06:26:59Z)\n",
      "\u001b[2m2023-10-22T11:55:03.721036Z\u001b[0m \u001b[32m INFO\u001b[0m \u001b[2mfuriosa_rt_core::driver::event_driven::coord\u001b[0m\u001b[2m:\u001b[0m Found libhal (type: warboy, v0.11.0, rev: 43c901f built at: 2023-08-08T12:07:35Z)\n",
      "\u001b[2m2023-10-22T11:55:03.721038Z\u001b[0m \u001b[32m INFO\u001b[0m \u001b[2mfuriosa_rt_core::driver::event_driven::coord\u001b[0m\u001b[2m:\u001b[0m [Runtime-0] detected 1 NPU device(s):\n",
      "\u001b[2m2023-10-22T11:55:03.732176Z\u001b[0m \u001b[32m INFO\u001b[0m \u001b[2mfuriosa_rt_core::driver::event_driven::coord\u001b[0m\u001b[2m:\u001b[0m - [0] npu:0:0-1 (warboy-b0-2pe, 128dpes, firmware: 1.7.3290708996, f7b0f28)\n",
      "\u001b[2m2023-10-22T11:55:03.732480Z\u001b[0m \u001b[32m INFO\u001b[0m \u001b[2mfuriosa_rt_core::driver::event_driven::coord\u001b[0m\u001b[2m:\u001b[0m [Runtime-0] started\n",
      "\u001b[2m2023-10-22T11:55:08.215110Z\u001b[0m \u001b[32m INFO\u001b[0m \u001b[2mfuriosa::runtime\u001b[0m\u001b[2m:\u001b[0m Saving the compilation log into /root/.local/state/furiosa/logs/compiler-20231022205508-xs2fni.log\n",
      "\u001b[2m2023-10-22T11:55:08.215243Z\u001b[0m \u001b[32m INFO\u001b[0m \u001b[2mfuriosa_rt_core::driver::event_driven::coord\u001b[0m\u001b[2m:\u001b[0m [Runtime-0] created Sess-3a67bf1e using npu:0:0-1\n",
      "\u001b[2m2023-10-22T11:55:08.232241Z\u001b[0m \u001b[32m INFO\u001b[0m \u001b[2mfuriosa_rt_core::driver::event_driven::coord\u001b[0m\u001b[2m:\u001b[0m [Sess-3a67bf1e] compiling the model (target: warboy-b0-2pe, 128dpes, size: 216.8 MB)\n"
     ]
    },
    {
     "name": "stderr",
     "output_type": "stream",
     "text": [
      "\u001b[1m\u001b[2m[1/6]\u001b[0m 🔍   Compiling from onnx to dfg\n",
      "Done in 2.5548496s\n",
      "\u001b[1m\u001b[2m[2/6]\u001b[0m 🔍   Compiling from dfg to ldfg\n",
      "Done in 911.3475s\n",
      "\u001b[1m\u001b[2m[3/6]\u001b[0m 🔍   Compiling from ldfg to cdfg\n",
      "Done in 0.012720594s\n",
      "\u001b[1m\u001b[2m[4/6]\u001b[0m 🔍   Compiling from cdfg to gir\n",
      "Done in 0.2285069s\n",
      "\u001b[1m\u001b[2m[5/6]\u001b[0m 🔍   Compiling from gir to lir\n",
      "Done in 339.39093s\n",
      "\u001b[1m\u001b[2m[6/6]\u001b[0m 🔍   Compiling from lir to enf\n",
      "Done in 3.5124054s\n",
      "✨  Finished in 1257.047s\n"
     ]
    },
    {
     "name": "stdout",
     "output_type": "stream",
     "text": [
      "\u001b[2m2023-10-22T12:16:09.094679Z\u001b[0m \u001b[32m INFO\u001b[0m \u001b[2mfuriosa_rt_core::driver::event_driven::coord\u001b[0m\u001b[2m:\u001b[0m [Sess-3a67bf1e] the model compile is successful (took 1260 secs)\n",
      "\u001b[2m2023-10-22T12:16:09.191342Z\u001b[0m \u001b[32m INFO\u001b[0m \u001b[2mfuriosa_rt_core::driver::event_driven::coord\u001b[0m\u001b[2m:\u001b[0m [Runtime-0] created 1 NPU threads on npu:0:0-1 (DRAM: 65.3 MiB/16.0 GiB, SRAM: 32.0 MiB/128.0 MiB)\n"
     ]
    },
    {
     "name": "stderr",
     "output_type": "stream",
     "text": [
      "Evaluation: 100%|█████████████████████████████████████████████████████████████████████████████████████████████████████████████████████████████| 1000/1000 [00:37<00:00, 27.00images/s]"
     ]
    },
    {
     "name": "stdout",
     "output_type": "stream",
     "text": [
      "\u001b[2m2023-10-22T12:16:46.666419Z\u001b[0m \u001b[32m INFO\u001b[0m \u001b[2mfuriosa_rt_core::driver::event_driven::coord\u001b[0m\u001b[2m:\u001b[0m [Sess-3a67bf1e] terminated\n",
      "\u001b[2m2023-10-22T12:16:46.676356Z\u001b[0m \u001b[32m INFO\u001b[0m \u001b[2mfuriosa_rt_core::npu::raw\u001b[0m\u001b[2m:\u001b[0m NPU (npu:0:0-1) has been closed\n",
      "\u001b[2m2023-10-22T12:16:46.681672Z\u001b[0m \u001b[32m INFO\u001b[0m \u001b[2mfuriosa_rt_core::driver::event_driven::coord\u001b[0m\u001b[2m:\u001b[0m [Runtime-0] stopped\n"
     ]
    },
    {
     "name": "stderr",
     "output_type": "stream",
     "text": [
      "\n"
     ]
    }
   ],
   "source": [
    "total_predictions = 0\n",
    "elapsed_time = 0\n",
    "len_of_images = 1000\n",
    "list_of_image_name_and_detection = []\n",
    "with furiosa.runtime.sync.create_runner(\n",
    "    model_quantized, compiler_config=compiler_config\n",
    ") as runner:\n",
    "    for image in tqdm.tqdm(\n",
    "        islice(glob.iglob(\"coco/test2017/*.jpg\"), len_of_images),\n",
    "        desc=\"Evaluation\",\n",
    "        unit=\"images\",\n",
    "        mininterval=0.5,\n",
    "        total=len_of_images,\n",
    "    ):\n",
    "        start = time.perf_counter_ns()\n",
    "        inputs = preproc(cv2.imread(image), (640, 640))\n",
    "        runner_output = runner.run(inputs)\n",
    "        detection = postproc(runner_output[0], 80, 0.25, 0.65)\n",
    "        elapsed_time += time.perf_counter_ns() - start\n",
    "        list_of_image_name_and_detection.append((image, detection[0]))\n",
    "        total_predictions += 1"
   ]
  },
  {
   "cell_type": "markdown",
   "id": "2fc101e0-7afa-4b37-a912-be2c5a69406d",
   "metadata": {},
   "source": [
    "1000개 이미지를 추론하는데 걸린 시간으로부터 평균 레이턴시(latency)를 계산합니다. 전/후 처리를 포함하여 36.84 ms 걸리는 걸 확인할 수 있습니다."
   ]
  },
  {
   "cell_type": "code",
   "execution_count": 18,
   "id": "4fade41d",
   "metadata": {},
   "outputs": [
    {
     "name": "stdout",
     "output_type": "stream",
     "text": [
      "Average Latency: 36.845959816 ms\n"
     ]
    }
   ],
   "source": [
    "latency = elapsed_time / total_predictions\n",
    "print(f\"Average Latency: {latency / 1_000_000} ms\")"
   ]
  },
  {
   "cell_type": "markdown",
   "id": "42a13f40",
   "metadata": {},
   "source": [
    "# 6. 모델 평가"
   ]
  },
  {
   "cell_type": "markdown",
   "id": "c34ab95f",
   "metadata": {},
   "source": [
    "모델이 정확하게 결과값이 나오는지 확인하겠습니다. 먼저 표현하고 싶은 박스의 갯수를 정합니다."
   ]
  },
  {
   "cell_type": "code",
   "execution_count": 19,
   "id": "012817cf",
   "metadata": {},
   "outputs": [],
   "source": [
    "num_of_box = 5"
   ]
  },
  {
   "cell_type": "markdown",
   "id": "c2bf4c6c",
   "metadata": {},
   "source": [
    "다음으로 사용할 이미지와 detection 결과를 가져옵니다."
   ]
  },
  {
   "cell_type": "code",
   "execution_count": 20,
   "id": "d566046d",
   "metadata": {},
   "outputs": [],
   "source": [
    "index = [\n",
    "    l.shape[0] for _, l in list_of_image_name_and_detection if l is not None\n",
    "].index(num_of_box)\n",
    "image_name, sample_detection = list_of_image_name_and_detection[index]"
   ]
  },
  {
   "cell_type": "markdown",
   "id": "f7adee9e",
   "metadata": {},
   "source": [
    "이미지에 박스를 그려주는 `plot_one_box`를 구현합니다."
   ]
  },
  {
   "cell_type": "code",
   "execution_count": 21,
   "id": "79dafa20",
   "metadata": {},
   "outputs": [],
   "source": [
    "def plot_one_box(x, img, color, label=None, line_thickness=3):\n",
    "    # Plots one bounding box on image img\n",
    "    tl = (\n",
    "        line_thickness or round(0.002 * (img.shape[0] + img.shape[1]) / 2) + 1\n",
    "    )  # line/font thickness\n",
    "    c1, c2 = (int(x[0]), int(x[1])), (int(x[2]), int(x[3]))\n",
    "    cv2.rectangle(img, c1, c2, color, thickness=tl, lineType=cv2.LINE_AA)\n",
    "    if label:\n",
    "        tf = max(tl - 1, 1)  # font thickness\n",
    "        t_size = cv2.getTextSize(label, 0, fontScale=tl / 3, thickness=tf)[0]\n",
    "        c2 = c1[0] + t_size[0], c1[1] - t_size[1] - 3\n",
    "        cv2.rectangle(img, c1, c2, color, -1, cv2.LINE_AA)  # filled\n",
    "        cv2.putText(\n",
    "            img,\n",
    "            label,\n",
    "            (c1[0], c1[1] - 2),\n",
    "            0,\n",
    "            tl / 3,\n",
    "            [225, 255, 255],\n",
    "            thickness=tf,\n",
    "            lineType=cv2.LINE_AA,\n",
    "        )"
   ]
  },
  {
   "cell_type": "markdown",
   "id": "ead0958f",
   "metadata": {},
   "source": [
    "객체 id에 해당되는 label 이름은 `coco-labels-2014_2017.txt`를 통해 얻어낼 수 있습니다."
   ]
  },
  {
   "cell_type": "code",
   "execution_count": 22,
   "id": "9f08fa31",
   "metadata": {},
   "outputs": [],
   "source": [
    "with open(\"coco-labels-2014_2017.txt\", \"r\") as f:\n",
    "    names = f.readlines()"
   ]
  },
  {
   "cell_type": "markdown",
   "id": "7327f047",
   "metadata": {},
   "source": [
    "이제 이미지에 인식된 box들을 그려보도록 하겠습니다."
   ]
  },
  {
   "cell_type": "code",
   "execution_count": 23,
   "id": "3e2fc0a6",
   "metadata": {},
   "outputs": [],
   "source": [
    "sample_image = cv2.imread(image_name)\n",
    "for each_box in sample_detection:\n",
    "    xyxy = each_box[:4]\n",
    "    conf = each_box[4] * each_box[5]\n",
    "    cls = each_box[6]\n",
    "    label = \"%s %.2f\" % (names[int(cls)], conf)\n",
    "    plot_one_box(xyxy, sample_image, label=label, color=[0, 128, 128], line_thickness=1)"
   ]
  },
  {
   "cell_type": "markdown",
   "id": "13665421",
   "metadata": {},
   "source": [
    "다 그러진 이미지를 `test.jpg`에 저장을 하고 이미지를 출력합니다."
   ]
  },
  {
   "cell_type": "code",
   "execution_count": 24,
   "id": "046215be",
   "metadata": {},
   "outputs": [
    {
     "data": {
      "image/jpeg": "[encoded data removed]",
      "text/plain": [
       "<IPython.core.display.Image object>"
      ]
     },
     "metadata": {},
     "output_type": "display_data"
    }
   ],
   "source": [
    "cv2.imwrite(\"test.jpg\", sample_image)\n",
    "\n",
    "from IPython.display import Image, display\n",
    "\n",
    "display(Image(filename=\"test.jpg\"))"
   ]
  },
  {
   "cell_type": "markdown",
   "id": "61da9775",
   "metadata": {},
   "source": [
    "# 7. 결론"
   ]
  },
  {
   "cell_type": "markdown",
   "id": "048ee72f",
   "metadata": {},
   "source": [
    "이로써 furiosa sdk를 사용하여 yolox_l 모델에 `ModelEditor` 를 적용해서 기존 보다 모델을 최적화하여 실행했고 모델 결과를 이미지로 출력해보았습니다.\n",
    "\n",
    "`ModelEditor`를 통하여 최적화 옵션을 쉽게 적용할 수 있습니다."
   ]
  },
  {
   "cell_type": "markdown",
   "id": "d74d2cff",
   "metadata": {},
   "source": [
    "(주의: 주피터 노트북 상에서 시간을 측정하면 측정 오차가 상당히 클 수 있습니다. [`nbconvert`](https://nbconvert.readthedocs.io/)를 사용해 주피터 노트북으로부터 파이썬 스크립트를 추출하고, 그 파이썬 스크립트를 실행해 시간을 측정하면 보다 안정적인 측정값을 얻을 수 있습니다.)"
   ]
  }
 ],
 "metadata": {
  "kernelspec": {
   "display_name": "Python 3 (ipykernel)",
   "language": "python",
   "name": "python3"
  },
  "language_info": {
   "codemirror_mode": {
    "name": "ipython",
    "version": 3
   },
   "file_extension": ".py",
   "mimetype": "text/x-python",
   "name": "python",
   "nbconvert_exporter": "python",
   "pygments_lexer": "ipython3",
   "version": "3.10.12"
  }
 },
 "nbformat": 4,
 "nbformat_minor": 5
}
