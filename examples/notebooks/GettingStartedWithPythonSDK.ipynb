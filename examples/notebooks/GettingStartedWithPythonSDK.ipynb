{
 "cells": [
  {
   "cell_type": "markdown",
   "metadata": {},
   "source": [
    "# Getting Started with Python SDK\n",
    "\n",
    "## Prerequisites\n",
    "\n",
    "This is a simple inference example using MNIST model. To run the following examples, you must install NPU driver, firmware, and runtime by following [FuriosaAI Driver, Firmware, Runtime Installation Guide](https://furiosa-ai.github.io/docs/latest/ko/software/installation.html).\n",
    "\n",
    "After then, you need to install the following python packages:\n",
    "```sh\n",
    "pip install furiosa-sdk matplotlib mnist\n",
    "```\n",
    "Or, you can run the following command to install all dependent packages for all notebook examples at once:\n",
    "```sh\n",
    "pip install -r requirements.txt\n",
    "```\n",
    "\n",
    "Then, you are now ready to run the following examples."
   ]
  },
  {
   "cell_type": "markdown",
   "metadata": {},
   "source": [
    "## Checking environment\n",
    "First, let's check if your NPU device is ready as following:"
   ]
  },
  {
   "cell_type": "code",
   "execution_count": 1,
   "metadata": {
    "tags": []
   },
   "outputs": [
    {
     "name": "stdout",
     "output_type": "stream",
     "text": [
      "\u001b[0m+\u001b[0m\u001b[0m------\u001b[0m\u001b[0m+\u001b[0m\u001b[0m--------\u001b[0m\u001b[0m+\u001b[0m\u001b[0m----------------\u001b[0m\u001b[0m+\u001b[0m\u001b[0m-------\u001b[0m\u001b[0m+\u001b[0m\u001b[0m--------\u001b[0m\u001b[0m+\u001b[0m\u001b[0m--------------\u001b[0m\u001b[0m+\n",
      "\u001b[0m\u001b[0m\u001b[0m|\u001b[0m\u001b[0m \u001b[0m\u001b[0m\u001b[0m\u001b[1mNPU \u001b[0m \u001b[0m\u001b[0m|\u001b[0m\u001b[0m \u001b[0m\u001b[0m\u001b[0m\u001b[1mName  \u001b[0m \u001b[0m\u001b[0m|\u001b[0m\u001b[0m \u001b[0m\u001b[0m\u001b[0m\u001b[1mFirmware      \u001b[0m \u001b[0m\u001b[0m|\u001b[0m\u001b[0m \u001b[0m\u001b[0m\u001b[0m\u001b[1mTemp.\u001b[0m \u001b[0m\u001b[0m|\u001b[0m\u001b[0m \u001b[0m\u001b[0m\u001b[0m\u001b[1mPower \u001b[0m \u001b[0m\u001b[0m|\u001b[0m\u001b[0m \u001b[0m\u001b[0m\u001b[0m\u001b[1mPCI-BDF     \u001b[0m \u001b[0m\u001b[0m|\u001b[0m\u001b[0m\n",
      "\u001b[0m\u001b[0m\u001b[0m+\u001b[0m\u001b[0m------\u001b[0m\u001b[0m+\u001b[0m\u001b[0m--------\u001b[0m\u001b[0m+\u001b[0m\u001b[0m----------------\u001b[0m\u001b[0m+\u001b[0m\u001b[0m-------\u001b[0m\u001b[0m+\u001b[0m\u001b[0m--------\u001b[0m\u001b[0m+\u001b[0m\u001b[0m--------------\u001b[0m\u001b[0m+\n",
      "\u001b[0m\u001b[0m\u001b[0m|\u001b[0m\u001b[0m \u001b[0m\u001b[0m\u001b[0mnpu0\u001b[0m \u001b[0m\u001b[0m|\u001b[0m\u001b[0m \u001b[0m\u001b[0m\u001b[0mwarboy\u001b[0m \u001b[0m\u001b[0m|\u001b[0m\u001b[0m \u001b[0m\u001b[0m\u001b[0m1.7.0, 0a4411e\u001b[0m \u001b[0m\u001b[0m|\u001b[0m\u001b[0m \u001b[0m\u001b[0m\u001b[0m 38°C\u001b[0m \u001b[0m\u001b[0m|\u001b[0m\u001b[0m \u001b[0m\u001b[0m\u001b[0m2.15 W\u001b[0m \u001b[0m\u001b[0m|\u001b[0m\u001b[0m \u001b[0m\u001b[0m\u001b[0m0000:49:00.0\u001b[0m \u001b[0m\u001b[0m|\u001b[0m\u001b[0m\n",
      "\u001b[0m\u001b[0m\u001b[0m+\u001b[0m\u001b[0m------\u001b[0m\u001b[0m+\u001b[0m\u001b[0m--------\u001b[0m\u001b[0m+\u001b[0m\u001b[0m----------------\u001b[0m\u001b[0m+\u001b[0m\u001b[0m-------\u001b[0m\u001b[0m+\u001b[0m\u001b[0m--------\u001b[0m\u001b[0m+\u001b[0m\u001b[0m--------------\u001b[0m\u001b[0m+\n",
      "\u001b[0m\u001b[0m"
     ]
    }
   ],
   "source": [
    "!furiosactl info"
   ]
  },
  {
   "cell_type": "markdown",
   "metadata": {},
   "source": [
    "Depending on your device and environment, some information can be different from the output shown above. `furiosactl` prints out the summary of your NPU device.\n",
    "\n",
    "Then, let's make sure that your SDK is ready to run immediately by running the following command. If you see any error here, please follow the instructions at\n",
    "* [FuriosaAI Driver, Firmware, Runtime Installation Guide](https://furiosa-ai.github.io/docs/latest/ko/software/installation.html)\n",
    "* [Setting up a Python Environment](https://furiosa-ai.github.io/docs/latest/ko/software/python-sdk.html#python)"
   ]
  },
  {
   "cell_type": "code",
   "execution_count": 2,
   "metadata": {},
   "outputs": [
    {
     "name": "stdout",
     "output_type": "stream",
     "text": [
      "libfuriosa_hal.so --- v0.11.0, built @ 43c901f\n",
      "Furiosa SDK Runtime 0.10.0-dev (rev: e80482f4) (libnux 0.9.0 062c7dd1f 2023-04-12T20:55:14Z)\n"
     ]
    }
   ],
   "source": [
    "!python -c \"from furiosa import runtime;print(runtime.__full_version__)\""
   ]
  },
  {
   "cell_type": "markdown",
   "metadata": {},
   "source": [
    "## Preparing dataset"
   ]
  },
  {
   "cell_type": "markdown",
   "metadata": {},
   "source": [
    "Here, we are going to show how you can do inferences through `furiosa-sdk` with NPU. For that, we need a model and sample dataset. Here, we will use MNIST model and its dataset. This example already includes the MNIST model at `./models` directory, and its dataset can be quickly available by importing `mnist` python package."
   ]
  },
  {
   "cell_type": "code",
   "execution_count": 3,
   "metadata": {
    "tags": []
   },
   "outputs": [
    {
     "data": {
      "text/plain": [
       "(60000, 28, 28)"
      ]
     },
     "execution_count": 3,
     "metadata": {},
     "output_type": "execute_result"
    }
   ],
   "source": [
    "# Import MNIST dataset package\n",
    "import mnist\n",
    "\n",
    "# The following line will download the MNIST dataset through the network.\n",
    "train_images = mnist.train_images()\n",
    "train_images.shape"
   ]
  },
  {
   "cell_type": "markdown",
   "metadata": {},
   "source": [
    "Now, you already have the sample dataset."
   ]
  },
  {
   "cell_type": "markdown",
   "metadata": {},
   "source": [
    "## Running furiosa-sdk"
   ]
  },
  {
   "cell_type": "markdown",
   "metadata": {},
   "source": [
    "To enable `furiosa-sdk` in your Python script, you need to import `furiosa.runtime` simply as following:"
   ]
  },
  {
   "cell_type": "code",
   "execution_count": 4,
   "metadata": {},
   "outputs": [
    {
     "name": "stderr",
     "output_type": "stream",
     "text": [
      "libfuriosa_hal.so --- v0.11.0, built @ 43c901f\n"
     ]
    }
   ],
   "source": [
    "from furiosa.runtime import session"
   ]
  },
  {
   "cell_type": "markdown",
   "metadata": {},
   "source": [
    "Next, let's import other python packages for numpy array and images:"
   ]
  },
  {
   "cell_type": "code",
   "execution_count": 5,
   "metadata": {},
   "outputs": [],
   "source": [
    "import numpy as np\n",
    "from matplotlib import pyplot as plt\n",
    "import random"
   ]
  },
  {
   "cell_type": "markdown",
   "metadata": {},
   "source": [
    "### Compiling Tflite or Onnx model"
   ]
  },
  {
   "cell_type": "markdown",
   "metadata": {},
   "source": [
    "As the first step to run inferences on NPU, you have to create a `Session` object by calling `session.create()`. This step involves a model compilation and NPU initialization."
   ]
  },
  {
   "cell_type": "code",
   "execution_count": 6,
   "metadata": {},
   "outputs": [
    {
     "name": "stdout",
     "output_type": "stream",
     "text": [
      "\u001b[2m2023-04-13T23:43:14.260399Z\u001b[0m \u001b[32m INFO\u001b[0m \u001b[2mnux::npu\u001b[0m\u001b[2m:\u001b[0m Npu (npu0pe0-1) is being initialized\n",
      "\u001b[2m2023-04-13T23:43:14.265231Z\u001b[0m \u001b[32m INFO\u001b[0m \u001b[2mnux\u001b[0m\u001b[2m:\u001b[0m NuxInner create with pes: [PeId(0)]\n",
      "CPU times: user 27.1 ms, sys: 13.4 ms, total: 40.4 ms\n",
      "Wall time: 77.9 ms\n"
     ]
    },
    {
     "name": "stderr",
     "output_type": "stream",
     "text": [
      "Saving the compilation log into /home/hyunsik/.local/state/furiosa/logs/compile-20230413184314-mikh9t.log\n",
      "Using furiosa-compiler 0.9.0 (rev: 062c7dd1f built at 2023-04-12T20:55:14Z)\n"
     ]
    }
   ],
   "source": [
    "%%time\n",
    "sess = session.create('models/MNIST_MobileNet_v2_uint8_quant_without_avgpool_softmax.tflite')"
   ]
  },
  {
   "cell_type": "markdown",
   "metadata": {},
   "source": [
    "`session.create()` can take more options. As an example, `device` allows to specify a certain NPU device. For example, you can set `device=\"npu0pe0-1\"` to use a 2PE-fusioned NPU. You can also use 2 PEs individually if you set `device=\"npu0pe0\"` or `device=\"npu0pe1\"`. You can find more options in Python API Reference.\n",
    "\n",
    "Once `session` object is created, you are able get model information, such as input and output tensors shapes and their data type as following:"
   ]
  },
  {
   "cell_type": "code",
   "execution_count": 7,
   "metadata": {},
   "outputs": [
    {
     "name": "stderr",
     "output_type": "stream",
     "text": [
      "Inputs:\n",
      "{0: TensorDesc(shape=(1, 28, 28, 1), dtype=UINT8, format=NHWC, size=784, len=784)}\n",
      "Outputs:\n",
      "{0: TensorDesc(shape=(1, 10), dtype=UINT8, format=??, size=10, len=10)}\n"
     ]
    }
   ],
   "source": [
    "sess.print_summary()"
   ]
  },
  {
   "cell_type": "code",
   "execution_count": 8,
   "metadata": {},
   "outputs": [
    {
     "data": {
      "text/plain": [
       "[TensorDesc(shape=(1, 28, 28, 1), dtype=UINT8, format=NHWC, size=784, len=784)]"
      ]
     },
     "execution_count": 8,
     "metadata": {},
     "output_type": "execute_result"
    }
   ],
   "source": [
    "sess.inputs() # returns List[TensorDesc]"
   ]
  },
  {
   "cell_type": "code",
   "execution_count": 9,
   "metadata": {},
   "outputs": [
    {
     "data": {
      "text/plain": [
       "[TensorDesc(shape=(1, 10), dtype=UINT8, format=??, size=10, len=10)]"
      ]
     },
     "execution_count": 9,
     "metadata": {},
     "output_type": "execute_result"
    }
   ],
   "source": [
    "sess.outputs() # returns List[TensorDesc]"
   ]
  },
  {
   "cell_type": "markdown",
   "metadata": {},
   "source": [
    "### Running Inferences"
   ]
  },
  {
   "cell_type": "markdown",
   "metadata": {},
   "source": [
    "Now, let's try to run an inference from the `Session` object. For that, we need to prepare an sample image for MNIST model. `Session.run()` is the function to run an inference. It takes one or more *numpy* arrays as input tensors and returns `TensorArray` which can be also converted to *numpy* array. \n",
    "\n",
    "The followings transform one of MNIST training images to a numpy array."
   ]
  },
  {
   "cell_type": "code",
   "execution_count": 10,
   "metadata": {},
   "outputs": [
    {
     "name": "stdout",
     "output_type": "stream",
     "text": [
      "(1, 28, 28, 1)\n",
      "(1, 28, 28, 1)\n"
     ]
    },
    {
     "data": {
      "text/plain": [
       "<matplotlib.image.AxesImage at 0x7fc15f545030>"
      ]
     },
     "execution_count": 10,
     "metadata": {},
     "output_type": "execute_result"
    },
    {
     "data": {
      "image/png": "[encoded data removed]",
      "text/plain": [
       "<Figure size 640x480 with 1 Axes>"
      ]
     },
     "metadata": {},
     "output_type": "display_data"
    }
   ],
   "source": [
    "# Converts a single image to a numpy array `input`\n",
    "input = np.array(train_images[2:3].reshape(1, 28, 28, 1), np.uint8)\n",
    "print(sess.input(0).shape)\n",
    "print(input.shape)\n",
    "\n",
    "# Show the input image\n",
    "test_image = input.reshape(28, 28)\n",
    "plt.figure()\n",
    "plt.imshow(test_image, interpolation='nearest')"
   ]
  },
  {
   "cell_type": "markdown",
   "metadata": {},
   "source": [
    "The following runs 100 inferences and measure their walltimes."
   ]
  },
  {
   "cell_type": "code",
   "execution_count": 11,
   "metadata": {
    "tags": []
   },
   "outputs": [
    {
     "name": "stdout",
     "output_type": "stream",
     "text": [
      "122 µs ± 19 µs per loop (mean ± std. dev. of 7 runs, 100 loops each)\n"
     ]
    }
   ],
   "source": [
    "%%timeit -n100\n",
    "\n",
    "idx = random.randint(0, 59999)\n",
    "input = np.array(train_images[idx:idx+1].reshape(1, 28, 28, 1), np.uint8)\n",
    "outputs = sess.run(input)"
   ]
  },
  {
   "cell_type": "markdown",
   "metadata": {},
   "source": [
    "`Session.run()` returns a list of tensors, and this model has only one output tensor."
   ]
  },
  {
   "cell_type": "code",
   "execution_count": 12,
   "metadata": {
    "tags": []
   },
   "outputs": [
    {
     "data": {
      "text/plain": [
       "{0: Tensor(shape=(1, 10), dtype=UINT8)}"
      ]
     },
     "execution_count": 12,
     "metadata": {},
     "output_type": "execute_result"
    }
   ],
   "source": [
    "outputs = sess.run(input)\n",
    "outputs"
   ]
  },
  {
   "cell_type": "markdown",
   "metadata": {
    "tags": []
   },
   "source": [
    "You can also handle the output as a list and you can access a specific tensor as following:"
   ]
  },
  {
   "cell_type": "code",
   "execution_count": 13,
   "metadata": {},
   "outputs": [
    {
     "data": {
      "text/plain": [
       "Tensor(shape=(1, 10), dtype=UINT8)"
      ]
     },
     "execution_count": 13,
     "metadata": {},
     "output_type": "execute_result"
    }
   ],
   "source": [
    "outputs[0]"
   ]
  },
  {
   "cell_type": "markdown",
   "metadata": {},
   "source": [
    "To convert the output tensor to a numpy array, please run as following:"
   ]
  },
  {
   "cell_type": "code",
   "execution_count": 14,
   "metadata": {
    "tags": []
   },
   "outputs": [
    {
     "data": {
      "text/plain": [
       "array([[117, 151, 116, 120, 159, 117, 116, 142, 104, 133]], dtype=uint8)"
      ]
     },
     "execution_count": 14,
     "metadata": {},
     "output_type": "execute_result"
    }
   ],
   "source": [
    "outputs[0].numpy()"
   ]
  },
  {
   "cell_type": "markdown",
   "metadata": {},
   "source": [
    "As you can see, the output of MNIST model is a tensor shaped `(1, 10)`, each of elements is the probability of the corresponding number. Let's print out what number has the highest probability."
   ]
  },
  {
   "cell_type": "code",
   "execution_count": 15,
   "metadata": {},
   "outputs": [
    {
     "data": {
      "text/plain": [
       "4"
      ]
     },
     "execution_count": 15,
     "metadata": {},
     "output_type": "execute_result"
    }
   ],
   "source": [
    "np.argmax(outputs[0].numpy())"
   ]
  },
  {
   "cell_type": "markdown",
   "metadata": {},
   "source": [
    "The answer will be the same as you saw the above image."
   ]
  },
  {
   "cell_type": "markdown",
   "metadata": {},
   "source": [
    "`Session` will be holding the NPU device until `Session.close()` is called if you keep this notebook session. To run other notebook examples, please free the NPU device as following:"
   ]
  },
  {
   "cell_type": "code",
   "execution_count": 16,
   "metadata": {},
   "outputs": [
    {
     "name": "stdout",
     "output_type": "stream",
     "text": [
      "\u001b[2m2023-04-13T23:43:14.603499Z\u001b[0m \u001b[32m INFO\u001b[0m \u001b[2mnux::npu\u001b[0m\u001b[2m:\u001b[0m NPU (npu0pe0-1) has been destroyed\n",
      "\u001b[2m2023-04-13T23:43:14.603643Z\u001b[0m \u001b[32m INFO\u001b[0m \u001b[2mnux::capi\u001b[0m\u001b[2m:\u001b[0m session has been destroyed\n"
     ]
    }
   ],
   "source": [
    "sess.close()"
   ]
  },
  {
   "cell_type": "code",
   "execution_count": null,
   "metadata": {},
   "outputs": [],
   "source": []
  }
 ],
 "metadata": {
  "kernelspec": {
   "display_name": "Python 3 (ipykernel)",
   "language": "python",
   "name": "python3"
  },
  "language_info": {
   "codemirror_mode": {
    "name": "ipython",
    "version": 3
   },
   "file_extension": ".py",
   "mimetype": "text/x-python",
   "name": "python",
   "nbconvert_exporter": "python",
   "pygments_lexer": "ipython3",
   "version": "3.10.9"
  }
 },
 "nbformat": 4,
 "nbformat_minor": 4
}
